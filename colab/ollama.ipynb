{
 "cells": [
  {
   "cell_type": "code",
   "execution_count": null,
   "id": "93f59dcb-c588-41b8-a792-55d88ade739c",
   "metadata": {},
   "outputs": [],
   "source": [
    "# Baixar e instalar o Ollama no colab\n",
    "!curl https://ollama.ai/install.sh | sh"
   ]
  },
  {
   "cell_type": "code",
   "execution_count": null,
   "id": "658c147e-c7f8-490e-910e-62b80f577dda",
   "metadata": {},
   "outputs": [],
   "source": [
    "!pip install aiohttp pyngrok\n",
    "\n",
    "import os\n",
    "import asyncio\n",
    "\n",
    "# Define a variável de ambiente LD_LIBRARY_PATH para garantir que as bibliotecas do sistema NVIDIA sejam encontradas\n",
    "os.environ.update({'LD_LIBRARY_PATH': '/usr/lib64-nvidia'})\n",
    "\n",
    "async def run_process(cmd):\n",
    "  print('>>> starting', *cmd)\n",
    "  p = await asyncio.subprocess.create_subprocess_exec(\n",
    "      *cmd,\n",
    "      stdout=asyncio.subprocess.PIPE,\n",
    "      stderr=asyncio.subprocess.PIPE,\n",
    "  )\n",
    "\n",
    "  async def pipe(lines):\n",
    "    async for line in lines:\n",
    "      print(line.strip().decode('utf-8'))\n",
    "\n",
    "  await asyncio.gather(\n",
    "      pipe(p.stdout),\n",
    "      pipe(p.stderr),\n",
    "  )\n",
    "\n",
    "# Registra o authtoken do Ngrok (substitua 'seu-auth-token' pelo seu token)\n",
    "await asyncio.gather(\n",
    "    run_process(['ngrok', 'config', 'add-authtoken','seu-auth-token'])\n",
    ")\n",
    "\n",
    "# Inicia o servidor Ollama e cria o túnel do Ngrok para expor a API\n",
    "await asyncio.gather(\n",
    "    run_process(['ollama', 'serve']),\n",
    "    run_process(['ngrok', 'http', '--log', 'stderr', '11434', '--host-header', 'localhost:11434'])\n",
    ")"
   ]
  },
  {
   "cell_type": "markdown",
   "id": "626cebf7be1f841b",
   "metadata": {
    "collapsed": false
   },
   "source": [
    "O Ngrok expõe uma URL, que você deve exportar como OLLAMA_HOST localmente:\n",
    "\n",
    "`export OLLAMA_HOST=https://fd90-34-125-15-193.ngrok.io/`\n",
    "\n",
    "Depois disso, podemos usar o Ollama na nossa instância do colab a partir da máquina local e usar os comandos do ollama normalmente.\n",
    "\n",
    "`ollama list`"
   ]
  },
  {
   "cell_type": "markdown",
   "id": "e9dae0cb",
   "metadata": {},
   "source": []
  }
 ],
 "metadata": {
  "kernelspec": {
   "display_name": ".venv",
   "language": "python",
   "name": "python3"
  },
  "language_info": {
   "codemirror_mode": {
    "name": "ipython",
    "version": 3
   },
   "file_extension": ".py",
   "mimetype": "text/x-python",
   "name": "python",
   "nbconvert_exporter": "python",
   "pygments_lexer": "ipython3",
   "version": "3.12.8"
  }
 },
 "nbformat": 4,
 "nbformat_minor": 5
}
